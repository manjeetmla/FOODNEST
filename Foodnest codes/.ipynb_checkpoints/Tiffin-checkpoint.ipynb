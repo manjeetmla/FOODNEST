{
 "cells": [
  {
   "cell_type": "code",
   "execution_count": 1,
   "id": "9c023f22-8356-4244-a775-03b5b4238216",
   "metadata": {},
   "outputs": [],
   "source": [
    "import pandas as pd\n",
    "import numpy as np\n",
    "from scipy.spatial import distance"
   ]
  },
  {
   "cell_type": "code",
   "execution_count": 2,
   "id": "f0045e53-b0da-450f-ac5f-114017e6e56c",
   "metadata": {},
   "outputs": [],
   "source": [
    "class Customer:\n",
    "    def __init__(self, customer_id, location, meal_plan, customizations):\n",
    "        self.customer_id = customer_id\n",
    "        self.location = location\n",
    "        self.meal_plan = meal_plan\n",
    "        self.customizations = customizations"
   ]
  },
  {
   "cell_type": "code",
   "execution_count": 3,
   "id": "a106eb28-75a4-483d-bf8b-65ffb3d4a994",
   "metadata": {},
   "outputs": [],
   "source": [
    "class Vendor:\n",
    "    def __init__(self, vendor_id, location, cuisine, pricing, capacity):\n",
    "        self.vendor_id = vendor_id\n",
    "        self.location = location\n",
    "        self.cuisine = cuisine\n",
    "        self.pricing = pricing\n",
    "        self.capacity = capacity"
   ]
  },
  {
   "cell_type": "code",
   "execution_count": 4,
   "id": "2b1fdf25-5c1b-4861-a2ce-bd81ee683256",
   "metadata": {},
   "outputs": [],
   "source": [
    "class Order:\n",
    "    def __init__(self, order_id, customer_id, vendor_id, items, delivery_time):\n",
    "        self.order_id = order_id\n",
    "        self.customer_id = customer_id\n",
    "        self.vendor_id = vendor_id\n",
    "        self.items = items\n",
    "        self.delivery_time = delivery_time"
   ]
  },
  {
   "cell_type": "code",
   "execution_count": 5,
   "id": "3b1911be-bf65-47b5-b5fa-06058bc12c8c",
   "metadata": {},
   "outputs": [],
   "source": [
    "class Rider:\n",
    "    def __init__(self, rider_id, location):\n",
    "        self.rider_id = rider_id\n",
    "        self.location = location\n",
    "        self.orders = []\n",
    "        self.route = None"
   ]
  },
  {
   "cell_type": "code",
   "execution_count": 6,
   "id": "cb187f26-af55-4c19-85f8-e7c4f11c7c45",
   "metadata": {},
   "outputs": [],
   "source": [
    "def calculate_distance(loc1, loc2):\n",
    "    return np.linalg.norm(np.array(loc1) - np.array(loc2))"
   ]
  },
  {
   "cell_type": "code",
   "execution_count": 7,
   "id": "f2cc7811-ec0c-4a80-9d88-b2d8f18579f9",
   "metadata": {},
   "outputs": [],
   "source": [
    "def assign_orders(orders, vendors):\n",
    "    for order in orders:\n",
    "        available_vendors = [v for v in vendors if v.capacity > 0]\n",
    "        if not available_vendors:\n",
    "            continue\n",
    "        nearest_vendor = min(available_vendors, key=lambda v: calculate_distance(v.location, order.customer_id.location))\n",
    "        nearest_vendor.capacity -= 1\n",
    "        order.vendor_id = nearest_vendor.vendor_id"
   ]
  },
  {
   "cell_type": "code",
   "execution_count": 8,
   "id": "6a3d5077-8552-4d77-9302-7b5b8d826619",
   "metadata": {},
   "outputs": [],
   "source": [
    "def optimize_routes(orders, riders):\n",
    "    for rider in riders:\n",
    "        if rider.orders:\n",
    "            waypoints = [order.customer_location for order in rider.orders]\n",
    "            directions_result = gmaps.directions(\n",
    "                origin=rider.location,\n",
    "                destination=waypoints[-1],\n",
    "                waypoints=waypoints[:-1],\n",
    "                optimize_waypoints=True\n",
    "            )\n",
    "            if directions_result:\n",
    "                rider.route = directions_result\n",
    "                for order in rider.orders:\n",
    "                    order.delivery_time = datetime.now().strftime('%Y-%m-%d %H:%M:%S')\n",
    "            else:\n",
    "                print(\"Error: No directions found\")\n"
   ]
  },
  {
   "cell_type": "code",
   "execution_count": 9,
   "id": "e0f4590c-d2d2-44da-bd7c-b8a4fbeb0944",
   "metadata": {},
   "outputs": [],
   "source": [
    "def calculate_costs(orders, vendors, delivery_cost_per_km, food_cost_per_meal):\n",
    "    total_cost = 0\n",
    "    for order in orders:\n",
    "        vendor = next(v for v in vendors if v.vendor_id == order.vendor_id)\n",
    "        distance_to_customer = calculate_distance(vendor.location, order.customer_id.location)\n",
    "        delivery_cost = distance_to_customer * delivery_cost_per_km\n",
    "        food_cost = food_cost_per_meal\n",
    "        total_cost += delivery_cost + food_cost\n",
    "    return total_cost"
   ]
  },
  {
   "cell_type": "code",
   "execution_count": null,
   "id": "836f1dbd-3d22-4685-9d71-6d0fa206acda",
   "metadata": {},
   "outputs": [],
   "source": [
    "def main():\n",
    "    # Example data\n",
    "    customers = [\n",
    "        Customer(1, (28.7041, 77.1025), '30 days', {'customization': 'vegan'}),\n",
    "        Customer(2, (28.5355, 77.3910), '15 days', {'customization': 'gluten-free'})\n",
    "    ]\n",
    "    vendors = [\n",
    "        Vendor(1, (28.7041, 77.1025), 'Indian', 100, 10),\n",
    "        Vendor(2, (28.5355, 77.3910), 'Chinese', 120, 8)\n",
    "    ]\n",
    "    orders = [\n",
    "        Order(1, customers[0], None, ['meal1'], '2024-08-12 12:00:00'),\n",
    "        Order(2, customers[1], None, ['meal2'], '2024-08-12 13:00:00')\n",
    "    ]\n",
    "\n",
    "    delivery_cost_per_km = 2.5\n",
    "    food_cost_per_meal = 50\n",
    "\n",
    "    assign_orders(orders, vendors)\n",
    "\n",
    "    riders = [\n",
    "        Rider(1, (28.7041, 77.1025)),\n",
    "        Rider(2, (28.5355, 77.3910))\n",
    "    ]\n",
    "\n",
    "    # Assign orders to riders\n",
    "    for i, order in enumerate(orders):\n",
    "        riders[i % len(riders)].orders.append(order)\n",
    "\n",
    "    optimize_routes(orders, riders)\n",
    "    total_cost = calculate_costs(orders, vendors, delivery_cost_per_km, food_cost_per_meal)\n",
    "\n",
    "    print(f\"Total Cost: Rs. {total_cost:.2f}\")\n",
    "\n",
    "if __name__ == \"__main__\":\n",
    "    main()\n"
   ]
  }
 ],
 "metadata": {
  "kernelspec": {
   "display_name": "Python 3 (ipykernel)",
   "language": "python",
   "name": "python3"
  },
  "language_info": {
   "codemirror_mode": {
    "name": "ipython",
    "version": 3
   },
   "file_extension": ".py",
   "mimetype": "text/x-python",
   "name": "python",
   "nbconvert_exporter": "python",
   "pygments_lexer": "ipython3",
   "version": "3.11.7"
  }
 },
 "nbformat": 4,
 "nbformat_minor": 5
}
