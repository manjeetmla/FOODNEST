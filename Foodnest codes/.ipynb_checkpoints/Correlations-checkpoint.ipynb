{
 "cells": [
  {
   "cell_type": "code",
   "execution_count": 1,
   "id": "192a0efc",
   "metadata": {
    "editable": true,
    "slideshow": {
     "slide_type": ""
    },
    "tags": []
   },
   "outputs": [],
   "source": [
    "import pandas as pd\n",
    "import numpy as np"
   ]
  },
  {
   "cell_type": "code",
   "execution_count": 2,
   "id": "4a6c2c3a",
   "metadata": {},
   "outputs": [],
   "source": [
    "foods=pd.read_csv('recipes.csv')"
   ]
  },
  {
   "cell_type": "code",
   "execution_count": 3,
   "id": "fd17bf0b",
   "metadata": {},
   "outputs": [
    {
     "data": {
      "text/html": [
       "<div>\n",
       "<style scoped>\n",
       "    .dataframe tbody tr th:only-of-type {\n",
       "        vertical-align: middle;\n",
       "    }\n",
       "\n",
       "    .dataframe tbody tr th {\n",
       "        vertical-align: top;\n",
       "    }\n",
       "\n",
       "    .dataframe thead th {\n",
       "        text-align: right;\n",
       "    }\n",
       "</style>\n",
       "<table border=\"1\" class=\"dataframe\">\n",
       "  <thead>\n",
       "    <tr style=\"text-align: right;\">\n",
       "      <th></th>\n",
       "      <th>RecipeId</th>\n",
       "      <th>Name</th>\n",
       "      <th>AuthorId</th>\n",
       "      <th>AuthorName</th>\n",
       "      <th>CookTime</th>\n",
       "      <th>PrepTime</th>\n",
       "      <th>TotalTime</th>\n",
       "      <th>DatePublished</th>\n",
       "      <th>Description</th>\n",
       "      <th>Images</th>\n",
       "      <th>...</th>\n",
       "      <th>SaturatedFatContent</th>\n",
       "      <th>CholesterolContent</th>\n",
       "      <th>SodiumContent</th>\n",
       "      <th>CarbohydrateContent</th>\n",
       "      <th>FiberContent</th>\n",
       "      <th>SugarContent</th>\n",
       "      <th>ProteinContent</th>\n",
       "      <th>RecipeServings</th>\n",
       "      <th>RecipeYield</th>\n",
       "      <th>RecipeInstructions</th>\n",
       "    </tr>\n",
       "  </thead>\n",
       "  <tbody>\n",
       "    <tr>\n",
       "      <th>0</th>\n",
       "      <td>38</td>\n",
       "      <td>Low-Fat Berry Blue Frozen Dessert</td>\n",
       "      <td>1533</td>\n",
       "      <td>Dancer</td>\n",
       "      <td>PT24H</td>\n",
       "      <td>PT45M</td>\n",
       "      <td>PT24H45M</td>\n",
       "      <td>1999-08-09T21:46:00Z</td>\n",
       "      <td>Make and share this Low-Fat Berry Blue Frozen ...</td>\n",
       "      <td>c(\"https://img.sndimg.com/food/image/upload/w_...</td>\n",
       "      <td>...</td>\n",
       "      <td>1.3</td>\n",
       "      <td>8.0</td>\n",
       "      <td>29.8</td>\n",
       "      <td>37.1</td>\n",
       "      <td>3.6</td>\n",
       "      <td>30.2</td>\n",
       "      <td>3.2</td>\n",
       "      <td>4.0</td>\n",
       "      <td>NaN</td>\n",
       "      <td>c(\"Toss 2 cups berries with sugar.\", \"Let stan...</td>\n",
       "    </tr>\n",
       "    <tr>\n",
       "      <th>1</th>\n",
       "      <td>39</td>\n",
       "      <td>Biryani</td>\n",
       "      <td>1567</td>\n",
       "      <td>elly9812</td>\n",
       "      <td>PT25M</td>\n",
       "      <td>PT4H</td>\n",
       "      <td>PT4H25M</td>\n",
       "      <td>1999-08-29T13:12:00Z</td>\n",
       "      <td>Make and share this Biryani recipe from Food.com.</td>\n",
       "      <td>c(\"https://img.sndimg.com/food/image/upload/w_...</td>\n",
       "      <td>...</td>\n",
       "      <td>16.6</td>\n",
       "      <td>372.8</td>\n",
       "      <td>368.4</td>\n",
       "      <td>84.4</td>\n",
       "      <td>9.0</td>\n",
       "      <td>20.4</td>\n",
       "      <td>63.4</td>\n",
       "      <td>6.0</td>\n",
       "      <td>NaN</td>\n",
       "      <td>c(\"Soak saffron in warm milk for 5 minutes and...</td>\n",
       "    </tr>\n",
       "  </tbody>\n",
       "</table>\n",
       "<p>2 rows × 28 columns</p>\n",
       "</div>"
      ],
      "text/plain": [
       "   RecipeId                               Name  AuthorId AuthorName CookTime  \\\n",
       "0        38  Low-Fat Berry Blue Frozen Dessert      1533     Dancer    PT24H   \n",
       "1        39                            Biryani      1567   elly9812    PT25M   \n",
       "\n",
       "  PrepTime TotalTime         DatePublished  \\\n",
       "0    PT45M  PT24H45M  1999-08-09T21:46:00Z   \n",
       "1     PT4H   PT4H25M  1999-08-29T13:12:00Z   \n",
       "\n",
       "                                         Description  \\\n",
       "0  Make and share this Low-Fat Berry Blue Frozen ...   \n",
       "1  Make and share this Biryani recipe from Food.com.   \n",
       "\n",
       "                                              Images  ... SaturatedFatContent  \\\n",
       "0  c(\"https://img.sndimg.com/food/image/upload/w_...  ...                 1.3   \n",
       "1  c(\"https://img.sndimg.com/food/image/upload/w_...  ...                16.6   \n",
       "\n",
       "  CholesterolContent SodiumContent CarbohydrateContent  FiberContent  \\\n",
       "0                8.0          29.8                37.1           3.6   \n",
       "1              372.8         368.4                84.4           9.0   \n",
       "\n",
       "   SugarContent  ProteinContent  RecipeServings  RecipeYield  \\\n",
       "0          30.2             3.2             4.0          NaN   \n",
       "1          20.4            63.4             6.0          NaN   \n",
       "\n",
       "                                  RecipeInstructions  \n",
       "0  c(\"Toss 2 cups berries with sugar.\", \"Let stan...  \n",
       "1  c(\"Soak saffron in warm milk for 5 minutes and...  \n",
       "\n",
       "[2 rows x 28 columns]"
      ]
     },
     "execution_count": 3,
     "metadata": {},
     "output_type": "execute_result"
    }
   ],
   "source": [
    "foods.head(2)"
   ]
  },
  {
   "cell_type": "code",
   "execution_count": 4,
   "id": "34483a57",
   "metadata": {},
   "outputs": [
    {
     "name": "stdout",
     "output_type": "stream",
     "text": [
      "c(\"Soak saffron in warm milk for 5 minutes and puree in blender.\", \"Add chiles, onions, ginger, garlic, cloves, peppercorns, cardamom seeds, cinnamon, coriander and cumin seeds, poppy seeds, nutmeg, mace, cilantro or mint leaves and lemon juice. Blend into smooth paste. Put paste into large bowl, add yogurt and mix well.\", \"Marinate chicken in yogurt mixture with salt, covered for at least 2 - 6 hours in refrigerator.\", \"In skillet. heat oil over medium heat for 1 minute. Add ghee and 15 seconds later add onion and fry for about8 minutes.\", \n",
      "\"Reserve for garnish.\", \"In same skillet, cook chicken with its marinade with tomatoes for about 10 minutes over medium heat, uncovered.\", \"Remove chicken pieces from the sauce and set aside. Add rice to sauce, bring to boil, and cook, covered over low heat for 15 minutes.\", \"Return chicken and add raisins, cashews and almonds; mix well.\", \"Simmer, covered for 5 minutes.\", \"Place chicken, eggs and rice in large serving dish in such a way that yellow of the eggs, the saffron-colored rice, the nuts and the chicken make a colorful display.\", \n",
      "\"Add reserved onion as garnish.\")\n"
     ]
    }
   ],
   "source": [
    "cell_value = foods.iloc[1, 27]\n",
    "print(cell_value) "
   ]
  },
  {
   "cell_type": "code",
   "execution_count": 5,
   "id": "27139daa",
   "metadata": {},
   "outputs": [
    {
     "data": {
      "text/plain": [
       "(522517, 28)"
      ]
     },
     "execution_count": 5,
     "metadata": {},
     "output_type": "execute_result"
    }
   ],
   "source": [
    "foods.shape\n"
   ]
  },
  {
   "cell_type": "code",
   "execution_count": 6,
   "id": "a030a765",
   "metadata": {},
   "outputs": [],
   "source": [
    "foods = foods[['RecipeId','Name','CookTime','PrepTime']]"
   ]
  },
  {
   "cell_type": "code",
   "execution_count": 7,
   "id": "151d1274",
   "metadata": {},
   "outputs": [
    {
     "data": {
      "text/html": [
       "<div>\n",
       "<style scoped>\n",
       "    .dataframe tbody tr th:only-of-type {\n",
       "        vertical-align: middle;\n",
       "    }\n",
       "\n",
       "    .dataframe tbody tr th {\n",
       "        vertical-align: top;\n",
       "    }\n",
       "\n",
       "    .dataframe thead th {\n",
       "        text-align: right;\n",
       "    }\n",
       "</style>\n",
       "<table border=\"1\" class=\"dataframe\">\n",
       "  <thead>\n",
       "    <tr style=\"text-align: right;\">\n",
       "      <th></th>\n",
       "      <th>RecipeId</th>\n",
       "      <th>Name</th>\n",
       "      <th>CookTime</th>\n",
       "      <th>PrepTime</th>\n",
       "    </tr>\n",
       "  </thead>\n",
       "  <tbody>\n",
       "    <tr>\n",
       "      <th>0</th>\n",
       "      <td>38</td>\n",
       "      <td>Low-Fat Berry Blue Frozen Dessert</td>\n",
       "      <td>PT24H</td>\n",
       "      <td>PT45M</td>\n",
       "    </tr>\n",
       "    <tr>\n",
       "      <th>1</th>\n",
       "      <td>39</td>\n",
       "      <td>Biryani</td>\n",
       "      <td>PT25M</td>\n",
       "      <td>PT4H</td>\n",
       "    </tr>\n",
       "    <tr>\n",
       "      <th>2</th>\n",
       "      <td>40</td>\n",
       "      <td>Best Lemonade</td>\n",
       "      <td>PT5M</td>\n",
       "      <td>PT30M</td>\n",
       "    </tr>\n",
       "    <tr>\n",
       "      <th>3</th>\n",
       "      <td>41</td>\n",
       "      <td>Carina's Tofu-Vegetable Kebabs</td>\n",
       "      <td>PT20M</td>\n",
       "      <td>PT24H</td>\n",
       "    </tr>\n",
       "    <tr>\n",
       "      <th>4</th>\n",
       "      <td>42</td>\n",
       "      <td>Cabbage Soup</td>\n",
       "      <td>PT30M</td>\n",
       "      <td>PT20M</td>\n",
       "    </tr>\n",
       "    <tr>\n",
       "      <th>...</th>\n",
       "      <td>...</td>\n",
       "      <td>...</td>\n",
       "      <td>...</td>\n",
       "      <td>...</td>\n",
       "    </tr>\n",
       "    <tr>\n",
       "      <th>522512</th>\n",
       "      <td>541379</td>\n",
       "      <td>Meg's Fresh Ginger Gingerbread</td>\n",
       "      <td>PT35M</td>\n",
       "      <td>PT1H</td>\n",
       "    </tr>\n",
       "    <tr>\n",
       "      <th>522513</th>\n",
       "      <td>541380</td>\n",
       "      <td>Roast Prime Rib au Poivre with Mixed Peppercorns</td>\n",
       "      <td>PT3H</td>\n",
       "      <td>PT30M</td>\n",
       "    </tr>\n",
       "    <tr>\n",
       "      <th>522514</th>\n",
       "      <td>541381</td>\n",
       "      <td>Kirshwasser Ice Cream</td>\n",
       "      <td>PT3H</td>\n",
       "      <td>PT1H</td>\n",
       "    </tr>\n",
       "    <tr>\n",
       "      <th>522515</th>\n",
       "      <td>541382</td>\n",
       "      <td>Quick &amp; Easy Asian Cucumber Salmon Rolls</td>\n",
       "      <td>NaN</td>\n",
       "      <td>PT15M</td>\n",
       "    </tr>\n",
       "    <tr>\n",
       "      <th>522516</th>\n",
       "      <td>541383</td>\n",
       "      <td>Spicy Baked Scotch Eggs</td>\n",
       "      <td>PT25M</td>\n",
       "      <td>PT15M</td>\n",
       "    </tr>\n",
       "  </tbody>\n",
       "</table>\n",
       "<p>522517 rows × 4 columns</p>\n",
       "</div>"
      ],
      "text/plain": [
       "        RecipeId                                              Name CookTime  \\\n",
       "0             38                 Low-Fat Berry Blue Frozen Dessert    PT24H   \n",
       "1             39                                           Biryani    PT25M   \n",
       "2             40                                     Best Lemonade     PT5M   \n",
       "3             41                    Carina's Tofu-Vegetable Kebabs    PT20M   \n",
       "4             42                                      Cabbage Soup    PT30M   \n",
       "...          ...                                               ...      ...   \n",
       "522512    541379                    Meg's Fresh Ginger Gingerbread    PT35M   \n",
       "522513    541380  Roast Prime Rib au Poivre with Mixed Peppercorns     PT3H   \n",
       "522514    541381                             Kirshwasser Ice Cream     PT3H   \n",
       "522515    541382          Quick & Easy Asian Cucumber Salmon Rolls      NaN   \n",
       "522516    541383                           Spicy Baked Scotch Eggs    PT25M   \n",
       "\n",
       "       PrepTime  \n",
       "0         PT45M  \n",
       "1          PT4H  \n",
       "2         PT30M  \n",
       "3         PT24H  \n",
       "4         PT20M  \n",
       "...         ...  \n",
       "522512     PT1H  \n",
       "522513    PT30M  \n",
       "522514     PT1H  \n",
       "522515    PT15M  \n",
       "522516    PT15M  \n",
       "\n",
       "[522517 rows x 4 columns]"
      ]
     },
     "execution_count": 7,
     "metadata": {},
     "output_type": "execute_result"
    }
   ],
   "source": [
    "foods"
   ]
  },
  {
   "cell_type": "code",
   "execution_count": 8,
   "id": "50975f24",
   "metadata": {},
   "outputs": [
    {
     "data": {
      "text/plain": [
       "RecipeId        0\n",
       "Name            0\n",
       "CookTime    82545\n",
       "PrepTime        0\n",
       "dtype: int64"
      ]
     },
     "execution_count": 8,
     "metadata": {},
     "output_type": "execute_result"
    }
   ],
   "source": [
    "foods.isnull().sum()"
   ]
  },
  {
   "cell_type": "code",
   "execution_count": 9,
   "id": "a27c46e3",
   "metadata": {},
   "outputs": [],
   "source": [
    "foods.dropna(inplace=True)"
   ]
  },
  {
   "cell_type": "code",
   "execution_count": 10,
   "id": "fbd52dcb",
   "metadata": {},
   "outputs": [
    {
     "data": {
      "text/plain": [
       "(439972, 4)"
      ]
     },
     "execution_count": 10,
     "metadata": {},
     "output_type": "execute_result"
    }
   ],
   "source": [
    "foods.shape"
   ]
  },
  {
   "cell_type": "code",
   "execution_count": 11,
   "id": "c9ada68a",
   "metadata": {},
   "outputs": [
    {
     "data": {
      "text/html": [
       "<div>\n",
       "<style scoped>\n",
       "    .dataframe tbody tr th:only-of-type {\n",
       "        vertical-align: middle;\n",
       "    }\n",
       "\n",
       "    .dataframe tbody tr th {\n",
       "        vertical-align: top;\n",
       "    }\n",
       "\n",
       "    .dataframe thead th {\n",
       "        text-align: right;\n",
       "    }\n",
       "</style>\n",
       "<table border=\"1\" class=\"dataframe\">\n",
       "  <thead>\n",
       "    <tr style=\"text-align: right;\">\n",
       "      <th></th>\n",
       "      <th>RecipeId</th>\n",
       "      <th>Name</th>\n",
       "      <th>CookTime</th>\n",
       "      <th>PrepTime</th>\n",
       "    </tr>\n",
       "  </thead>\n",
       "  <tbody>\n",
       "    <tr>\n",
       "      <th>0</th>\n",
       "      <td>38</td>\n",
       "      <td>Low-Fat Berry Blue Frozen Dessert</td>\n",
       "      <td>PT24H</td>\n",
       "      <td>PT45M</td>\n",
       "    </tr>\n",
       "    <tr>\n",
       "      <th>1</th>\n",
       "      <td>39</td>\n",
       "      <td>Biryani</td>\n",
       "      <td>PT25M</td>\n",
       "      <td>PT4H</td>\n",
       "    </tr>\n",
       "    <tr>\n",
       "      <th>2</th>\n",
       "      <td>40</td>\n",
       "      <td>Best Lemonade</td>\n",
       "      <td>PT5M</td>\n",
       "      <td>PT30M</td>\n",
       "    </tr>\n",
       "    <tr>\n",
       "      <th>3</th>\n",
       "      <td>41</td>\n",
       "      <td>Carina's Tofu-Vegetable Kebabs</td>\n",
       "      <td>PT20M</td>\n",
       "      <td>PT24H</td>\n",
       "    </tr>\n",
       "    <tr>\n",
       "      <th>4</th>\n",
       "      <td>42</td>\n",
       "      <td>Cabbage Soup</td>\n",
       "      <td>PT30M</td>\n",
       "      <td>PT20M</td>\n",
       "    </tr>\n",
       "    <tr>\n",
       "      <th>...</th>\n",
       "      <td>...</td>\n",
       "      <td>...</td>\n",
       "      <td>...</td>\n",
       "      <td>...</td>\n",
       "    </tr>\n",
       "    <tr>\n",
       "      <th>522511</th>\n",
       "      <td>541378</td>\n",
       "      <td>Meg's Pumpkin Spice Bread</td>\n",
       "      <td>PT45M</td>\n",
       "      <td>PT30M</td>\n",
       "    </tr>\n",
       "    <tr>\n",
       "      <th>522512</th>\n",
       "      <td>541379</td>\n",
       "      <td>Meg's Fresh Ginger Gingerbread</td>\n",
       "      <td>PT35M</td>\n",
       "      <td>PT1H</td>\n",
       "    </tr>\n",
       "    <tr>\n",
       "      <th>522513</th>\n",
       "      <td>541380</td>\n",
       "      <td>Roast Prime Rib au Poivre with Mixed Peppercorns</td>\n",
       "      <td>PT3H</td>\n",
       "      <td>PT30M</td>\n",
       "    </tr>\n",
       "    <tr>\n",
       "      <th>522514</th>\n",
       "      <td>541381</td>\n",
       "      <td>Kirshwasser Ice Cream</td>\n",
       "      <td>PT3H</td>\n",
       "      <td>PT1H</td>\n",
       "    </tr>\n",
       "    <tr>\n",
       "      <th>522516</th>\n",
       "      <td>541383</td>\n",
       "      <td>Spicy Baked Scotch Eggs</td>\n",
       "      <td>PT25M</td>\n",
       "      <td>PT15M</td>\n",
       "    </tr>\n",
       "  </tbody>\n",
       "</table>\n",
       "<p>439972 rows × 4 columns</p>\n",
       "</div>"
      ],
      "text/plain": [
       "        RecipeId                                              Name CookTime  \\\n",
       "0             38                 Low-Fat Berry Blue Frozen Dessert    PT24H   \n",
       "1             39                                           Biryani    PT25M   \n",
       "2             40                                     Best Lemonade     PT5M   \n",
       "3             41                    Carina's Tofu-Vegetable Kebabs    PT20M   \n",
       "4             42                                      Cabbage Soup    PT30M   \n",
       "...          ...                                               ...      ...   \n",
       "522511    541378                         Meg's Pumpkin Spice Bread    PT45M   \n",
       "522512    541379                    Meg's Fresh Ginger Gingerbread    PT35M   \n",
       "522513    541380  Roast Prime Rib au Poivre with Mixed Peppercorns     PT3H   \n",
       "522514    541381                             Kirshwasser Ice Cream     PT3H   \n",
       "522516    541383                           Spicy Baked Scotch Eggs    PT25M   \n",
       "\n",
       "       PrepTime  \n",
       "0         PT45M  \n",
       "1          PT4H  \n",
       "2         PT30M  \n",
       "3         PT24H  \n",
       "4         PT20M  \n",
       "...         ...  \n",
       "522511    PT30M  \n",
       "522512     PT1H  \n",
       "522513    PT30M  \n",
       "522514     PT1H  \n",
       "522516    PT15M  \n",
       "\n",
       "[439972 rows x 4 columns]"
      ]
     },
     "execution_count": 11,
     "metadata": {},
     "output_type": "execute_result"
    }
   ],
   "source": [
    "foods"
   ]
  },
  {
   "cell_type": "code",
   "execution_count": 12,
   "id": "377f9bef",
   "metadata": {},
   "outputs": [],
   "source": [
    "import re\n"
   ]
  },
  {
   "cell_type": "code",
   "execution_count": 13,
   "id": "c95682a4",
   "metadata": {},
   "outputs": [],
   "source": [
    "def convert_to_minutes(duration_str):\n",
    "    match = re.match(r\"PT(\\d+)(H|M)\", duration_str)\n",
    "    if match:\n",
    "        duration_value = int(match.group(1))\n",
    "        unit = match.group(2)\n",
    "        if unit == \"H\":\n",
    "            return duration_value * 60\n",
    "        elif unit == \"M\":\n",
    "            return duration_value"
   ]
  },
  {
   "cell_type": "code",
   "execution_count": 14,
   "id": "a9cd915a",
   "metadata": {},
   "outputs": [],
   "source": [
    "foods['CookTime'] = foods['CookTime'].apply(convert_to_minutes)\n"
   ]
  },
  {
   "cell_type": "code",
   "execution_count": 15,
   "id": "842d8bfd",
   "metadata": {},
   "outputs": [],
   "source": [
    "foods['PrepTime'] = foods['PrepTime'].apply(convert_to_minutes)"
   ]
  },
  {
   "cell_type": "code",
   "execution_count": 16,
   "id": "0261f4cb",
   "metadata": {},
   "outputs": [
    {
     "data": {
      "text/html": [
       "<div>\n",
       "<style scoped>\n",
       "    .dataframe tbody tr th:only-of-type {\n",
       "        vertical-align: middle;\n",
       "    }\n",
       "\n",
       "    .dataframe tbody tr th {\n",
       "        vertical-align: top;\n",
       "    }\n",
       "\n",
       "    .dataframe thead th {\n",
       "        text-align: right;\n",
       "    }\n",
       "</style>\n",
       "<table border=\"1\" class=\"dataframe\">\n",
       "  <thead>\n",
       "    <tr style=\"text-align: right;\">\n",
       "      <th></th>\n",
       "      <th>RecipeId</th>\n",
       "      <th>Name</th>\n",
       "      <th>CookTime</th>\n",
       "      <th>PrepTime</th>\n",
       "    </tr>\n",
       "  </thead>\n",
       "  <tbody>\n",
       "    <tr>\n",
       "      <th>0</th>\n",
       "      <td>38</td>\n",
       "      <td>Low-Fat Berry Blue Frozen Dessert</td>\n",
       "      <td>1440</td>\n",
       "      <td>45.0</td>\n",
       "    </tr>\n",
       "    <tr>\n",
       "      <th>1</th>\n",
       "      <td>39</td>\n",
       "      <td>Biryani</td>\n",
       "      <td>25</td>\n",
       "      <td>240.0</td>\n",
       "    </tr>\n",
       "    <tr>\n",
       "      <th>2</th>\n",
       "      <td>40</td>\n",
       "      <td>Best Lemonade</td>\n",
       "      <td>5</td>\n",
       "      <td>30.0</td>\n",
       "    </tr>\n",
       "    <tr>\n",
       "      <th>3</th>\n",
       "      <td>41</td>\n",
       "      <td>Carina's Tofu-Vegetable Kebabs</td>\n",
       "      <td>20</td>\n",
       "      <td>1440.0</td>\n",
       "    </tr>\n",
       "    <tr>\n",
       "      <th>4</th>\n",
       "      <td>42</td>\n",
       "      <td>Cabbage Soup</td>\n",
       "      <td>30</td>\n",
       "      <td>20.0</td>\n",
       "    </tr>\n",
       "    <tr>\n",
       "      <th>...</th>\n",
       "      <td>...</td>\n",
       "      <td>...</td>\n",
       "      <td>...</td>\n",
       "      <td>...</td>\n",
       "    </tr>\n",
       "    <tr>\n",
       "      <th>522511</th>\n",
       "      <td>541378</td>\n",
       "      <td>Meg's Pumpkin Spice Bread</td>\n",
       "      <td>45</td>\n",
       "      <td>30.0</td>\n",
       "    </tr>\n",
       "    <tr>\n",
       "      <th>522512</th>\n",
       "      <td>541379</td>\n",
       "      <td>Meg's Fresh Ginger Gingerbread</td>\n",
       "      <td>35</td>\n",
       "      <td>60.0</td>\n",
       "    </tr>\n",
       "    <tr>\n",
       "      <th>522513</th>\n",
       "      <td>541380</td>\n",
       "      <td>Roast Prime Rib au Poivre with Mixed Peppercorns</td>\n",
       "      <td>180</td>\n",
       "      <td>30.0</td>\n",
       "    </tr>\n",
       "    <tr>\n",
       "      <th>522514</th>\n",
       "      <td>541381</td>\n",
       "      <td>Kirshwasser Ice Cream</td>\n",
       "      <td>180</td>\n",
       "      <td>60.0</td>\n",
       "    </tr>\n",
       "    <tr>\n",
       "      <th>522516</th>\n",
       "      <td>541383</td>\n",
       "      <td>Spicy Baked Scotch Eggs</td>\n",
       "      <td>25</td>\n",
       "      <td>15.0</td>\n",
       "    </tr>\n",
       "  </tbody>\n",
       "</table>\n",
       "<p>439972 rows × 4 columns</p>\n",
       "</div>"
      ],
      "text/plain": [
       "        RecipeId                                              Name  CookTime  \\\n",
       "0             38                 Low-Fat Berry Blue Frozen Dessert      1440   \n",
       "1             39                                           Biryani        25   \n",
       "2             40                                     Best Lemonade         5   \n",
       "3             41                    Carina's Tofu-Vegetable Kebabs        20   \n",
       "4             42                                      Cabbage Soup        30   \n",
       "...          ...                                               ...       ...   \n",
       "522511    541378                         Meg's Pumpkin Spice Bread        45   \n",
       "522512    541379                    Meg's Fresh Ginger Gingerbread        35   \n",
       "522513    541380  Roast Prime Rib au Poivre with Mixed Peppercorns       180   \n",
       "522514    541381                             Kirshwasser Ice Cream       180   \n",
       "522516    541383                           Spicy Baked Scotch Eggs        25   \n",
       "\n",
       "        PrepTime  \n",
       "0           45.0  \n",
       "1          240.0  \n",
       "2           30.0  \n",
       "3         1440.0  \n",
       "4           20.0  \n",
       "...          ...  \n",
       "522511      30.0  \n",
       "522512      60.0  \n",
       "522513      30.0  \n",
       "522514      60.0  \n",
       "522516      15.0  \n",
       "\n",
       "[439972 rows x 4 columns]"
      ]
     },
     "execution_count": 16,
     "metadata": {},
     "output_type": "execute_result"
    }
   ],
   "source": [
    "foods\n"
   ]
  },
  {
   "cell_type": "code",
   "execution_count": 17,
   "id": "26d6e5ea-6c93-4066-b742-12560e2d1aa2",
   "metadata": {
    "tags": []
   },
   "outputs": [
    {
     "name": "stdout",
     "output_type": "stream",
     "text": [
      "R-squared: 0.00020180507349210064\n"
     ]
    },
    {
     "data": {
      "image/png": "[encoded data removed]",
      "text/plain": [
       "<Figure size 640x480 with 1 Axes>"
      ]
     },
     "metadata": {},
     "output_type": "display_data"
    }
   ],
   "source": [
    "import matplotlib.pyplot as plt\n",
    "from sklearn.linear_model import LinearRegression\n",
    "from sklearn.metrics import r2_score\n",
    "from sklearn.impute import SimpleImputer\n",
    "\n",
    "imputer = SimpleImputer(strategy='mean')\n",
    "foods[['PrepTime', 'CookTime']] = imputer.fit_transform(foods[['PrepTime', 'CookTime']])\n",
    "\n",
    "X = foods[['PrepTime']]\n",
    "y = foods['CookTime']\n",
    "\n",
    "model = LinearRegression()\n",
    "model.fit(X, y)  \n",
    "\n",
    "y_pred = model.predict(X)\n",
    "\n",
    "r2 = r2_score(y, y_pred)\n",
    "print(f\"R-squared: {r2}\")\n",
    "\n",
    "plt.scatter(X, y, color='blue', label='Actual')\n",
    "plt.plot(X, y_pred, color='red', label='Predicted')\n",
    "plt.xlabel('PrepTime')\n",
    "plt.ylabel('CookTime')\n",
    "plt.title('Linear Regression: CookTime vs PrepTime')\n",
    "plt.legend()\n",
    "plt.show()\n"
   ]
  },
  {
   "cell_type": "code",
   "execution_count": 18,
   "id": "daa1c35b-9594-46de-bb67-a9e77245555d",
   "metadata": {
    "tags": []
   },
   "outputs": [
    {
     "name": "stdout",
     "output_type": "stream",
     "text": [
      "The formula is: CookTime = 0.30 * PrepTime + 218.60\n"
     ]
    }
   ],
   "source": [
    "slope = model.coef_[0]\n",
    "intercept = model.intercept_\n",
    "\n",
    "#equation\n",
    "print(f\"The formula is: CookTime = {slope:.2f} * PrepTime + {intercept:.2f}\")\n"
   ]
  },
  {
   "cell_type": "code",
   "execution_count": 19,
   "id": "9756d5ae",
   "metadata": {},
   "outputs": [],
   "source": [
    "def calculate_times(desired_qty, dish):\n",
    "    ind = foods[foods['Name'] == dish].index[0]\n",
    "    packaging_time = 1\n",
    "    prep_corr=0.8\n",
    "    cook_corr=1.2\n",
    "    base_qty=250\n",
    "    prep_time = foods['PrepTime'].values[ind]\n",
    "    cook_time = foods['CookTime'].values[ind]\n",
    "    if(desired_qty>base_qty):\n",
    "        scaling_factor = desired_qty / base_qty\n",
    "        adjusted_prep_time = prep_time * scaling_factor ** prep_corr\n",
    "        adjusted_cook_time = cook_time * scaling_factor ** cook_corr\n",
    "        total_time = adjusted_prep_time + adjusted_cook_time + packaging_time\n",
    "    elif (desired_qty==base_qty):\n",
    "        total_time = prep_time + cook_time + packaging_time\n",
    "    \n",
    "    return total_time\n",
    "\n"
   ]
  },
  {
   "cell_type": "code",
   "execution_count": 20,
   "id": "e7b11c74",
   "metadata": {},
   "outputs": [
    {
     "name": "stdout",
     "output_type": "stream",
     "text": [
      "Total Time: 51.0 min\n"
     ]
    }
   ],
   "source": [
    "desired_qty = 250\n",
    "dish_name = \"Cabbage Soup\"\n",
    "total_time = calculate_times(desired_qty, dish_name)\n",
    "print(\"Total Time:\", total_time, \"min\")\n"
   ]
  },
  {
   "cell_type": "code",
   "execution_count": null,
   "id": "80f62bd2",
   "metadata": {},
   "outputs": [],
   "source": []
  }
 ],
 "metadata": {
  "kernelspec": {
   "display_name": "Python 3 (ipykernel)",
   "language": "python",
   "name": "python3"
  },
  "language_info": {
   "codemirror_mode": {
    "name": "ipython",
    "version": 3
   },
   "file_extension": ".py",
   "mimetype": "text/x-python",
   "name": "python",
   "nbconvert_exporter": "python",
   "pygments_lexer": "ipython3",
   "version": "3.11.7"
  }
 },
 "nbformat": 4,
 "nbformat_minor": 5
}
