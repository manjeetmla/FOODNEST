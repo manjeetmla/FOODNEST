{
 "cells": [
  {
   "cell_type": "code",
   "execution_count": null,
   "id": "9fb97633-db5a-4c9c-bea6-100ae93ae463",
   "metadata": {},
   "outputs": [],
   "source": [
    "import pandas as pd\n",
    "import numpy as np"
   ]
  },
  {
   "cell_type": "code",
   "execution_count": null,
   "id": "6bb40ce6-5d51-4860-8eec-471df370cdb4",
   "metadata": {},
   "outputs": [],
   "source": [
    "class Rider:\n",
    "    def __init__(self, rider_id, experience, rating, base_location):\n",
    "        self.rider_id = rider_id\n",
    "        self.experience = experience\n",
    "        self.rating = rating\n",
    "        self.base_location = base_location\n",
    "        self.orders = []\n",
    "        self.earnings = 0\n",
    "        self.costs = 0"
   ]
  },
  {
   "cell_type": "code",
   "execution_count": null,
   "id": "4f5b7690-3768-45aa-9488-8fad5026da49",
   "metadata": {},
   "outputs": [],
   "source": [
    "class Order:\n",
    "    def __init__(self, order_id, customer_location, delivery_deadline):\n",
    "        self.order_id = order_id\n",
    "        self.customer_location = customer_location\n",
    "        self.delivery_deadline = delivery_deadline\n",
    "        self.assigned_rider = None\n",
    "        self.delivery_time = None"
   ]
  },
  {
   "cell_type": "code",
   "execution_count": null,
   "id": "11bb6f21-78dd-44d9-9762-6a335f6dcf9a",
   "metadata": {},
   "outputs": [],
   "source": [
    "def calculate_distance(origin, destination):\n",
    "    # Placeholder for distance calculation (e.g., using Google Maps API)\n",
    "    return np.linalg.norm(np.array(origin) - np.array(destination))"
   ]
  },
  {
   "cell_type": "code",
   "execution_count": null,
   "id": "0fc24218-bacd-49a6-bdd8-d56b46132c47",
   "metadata": {},
   "outputs": [],
   "source": [
    "def calculate_fuel_cost(distance, cost_per_km):\n",
    "    return distance * cost_per_km\n"
   ]
  },
  {
   "cell_type": "code",
   "execution_count": null,
   "id": "8b3440df-62c6-4658-82d4-523d0cdb4456",
   "metadata": {},
   "outputs": [],
   "source": [
    "def calculate_earnings(rider, orders, mg, incentives, deductions):\n",
    "    base_pay = mg\n",
    "    on_time_deliveries = sum(1 for order in orders if order.delivery_time and order.delivery_time <= order.delivery_deadline)\n",
    "    total_orders = len(orders)\n",
    "    \n",
    "    # Incentives\n",
    "    if on_time_deliveries / total_orders >= 0.9:\n",
    "        base_pay += incentives['otd']\n",
    "    if total_orders > incentives['order_benchmark']:\n",
    "        base_pay += incentives['extra_orders']\n",
    "    \n",
    "    # Deductions\n",
    "    if on_time_deliveries / total_orders < 0.9:\n",
    "        base_pay -= deductions['missed_otd']\n",
    "    if total_orders < incentives['order_benchmark']:\n",
    "        base_pay -= deductions['low_orders']\n",
    "    \n",
    "    return base_pay"
   ]
  },
  {
   "cell_type": "code",
   "execution_count": null,
   "id": "85d17d01-3e47-4e4e-9e7f-ae6f7fcd7ac1",
   "metadata": {},
   "outputs": [],
   "source": [
    "def calculate_costs(rider, orders, cost_per_km, mg):\n",
    "    first_mile_distance = calculate_distance(rider.base_location, orders[0].customer_location) if orders else 0\n",
    "    last_mile_distance = sum(calculate_distance(order.customer_location, orders[i+1].customer_location) for i, order in enumerate(orders[:-1]))\n",
    "    return_mile_distance = calculate_distance(orders[-1].customer_location, rider.base_location) if orders else 0\n",
    "\n",
    "    total_distance = first_mile_distance + last_mile_distance + return_mile_distance\n",
    "    fuel_cost = calculate_fuel_cost(total_distance, cost_per_km)\n",
    "    \n",
    "    return fuel_cost + mg"
   ]
  },
  {
   "cell_type": "code",
   "execution_count": null,
   "id": "4857b6ef-a92c-4417-a93e-b1b041849006",
   "metadata": {},
   "outputs": [],
   "source": [
    "def calculate_profit(earnings, costs):\n",
    "    return earnings - costs"
   ]
  },
  {
   "cell_type": "code",
   "execution_count": null,
   "id": "b284ccd4-cd08-4b26-ac1a-6c8e072a65c4",
   "metadata": {},
   "outputs": [],
   "source": [
    "def main():\n",
    "    # Example data\n",
    "    orders = [Order(1, (28.7041, 77.1025), '2024-08-12 12:00:00'), Order(2, (28.5355, 77.3910), '2024-08-12 13:00:00')]\n",
    "    riders = [Rider(1, 2, 4.5, (28.7041, 77.1025)), Rider(2, 1, 4.0, (28.5355, 77.3910))]\n",
    "\n",
    "    mg = 500  # Minimum guarantee\n",
    "    incentives = {\n",
    "        'otd': 100,  # On-time delivery incentive\n",
    "        'order_benchmark': 5,  # Benchmark for extra orders incentive\n",
    "        'extra_orders': 50  # Incentive for extra orders\n",
    "    }\n",
    "    deductions = {\n",
    "        'missed_otd': 50,  # Deduction for missing on-time delivery\n",
    "        'low_orders': 30  # Deduction for low number of orders\n",
    "    }\n",
    "    cost_per_km = 2.5  # Fuel cost per km\n",
    "\n",
    "    for rider in riders:\n",
    "        rider.orders = orders  # Assign orders to riders for simplicity\n",
    "        earnings = calculate_earnings(rider, rider.orders, mg, incentives, deductions)\n",
    "        costs = calculate_costs(rider, rider.orders, cost_per_km, mg)\n",
    "        profit = calculate_profit(earnings, costs)\n",
    "        \n",
    "        print(f\"Rider {rider.rider_id} - Earnings: Rs. {earnings:.2f}, Costs: Rs. {costs:.2f}, Profit: Rs. {profit:.2f}\")\n",
    "\n",
    "if __name__ == \"__main__\":\n",
    "    main()\n"
   ]
  }
 ],
 "metadata": {
  "kernelspec": {
   "display_name": "Python 3 (ipykernel)",
   "language": "python",
   "name": "python3"
  },
  "language_info": {
   "codemirror_mode": {
    "name": "ipython",
    "version": 3
   },
   "file_extension": ".py",
   "mimetype": "text/x-python",
   "name": "python",
   "nbconvert_exporter": "python",
   "pygments_lexer": "ipython3",
   "version": "3.11.7"
  }
 },
 "nbformat": 4,
 "nbformat_minor": 5
}
