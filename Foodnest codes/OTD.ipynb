{
 "cells": [
  {
   "cell_type": "code",
   "execution_count": null,
   "id": "24179394-0e44-4f86-80ec-f3b5670b7a39",
   "metadata": {},
   "outputs": [],
   "source": [
    "import numpy as np\n",
    "import pandas as pd\n",
    "from scipy.spatial import distance\n",
    "import googlemaps\n",
    "from datetime import datetime"
   ]
  },
  {
   "cell_type": "code",
   "execution_count": null,
   "id": "3279f2db-e03e-471a-8006-aa77b97c7bcb",
   "metadata": {},
   "outputs": [],
   "source": [
    "GOOGLE_API_KEY = 'YOUR_GOOGLE_API_KEY'\n",
    "gmaps = googlemaps.Client(key=GOOGLE_API_KEY)"
   ]
  },
  {
   "cell_type": "code",
   "execution_count": null,
   "id": "708021a5-db37-4a6b-88a1-466623e4c41f",
   "metadata": {},
   "outputs": [],
   "source": [
    "class Order:\n",
    "    def __init__(self, order_id, customer_location, delivery_deadline):\n",
    "        self.order_id = order_id\n",
    "        self.customer_location = customer_location\n",
    "        self.delivery_deadline = delivery_deadline\n",
    "        self.assigned_rider = None\n",
    "        self.delivery_time = None\n"
   ]
  },
  {
   "cell_type": "code",
   "execution_count": null,
   "id": "800f2cf4-8113-4697-af20-b02ae292e85a",
   "metadata": {},
   "outputs": [],
   "source": [
    "class Rider:\n",
    "    def __init__(self, rider_id, location, capacity, base_location):\n",
    "        self.rider_id = rider_id\n",
    "        self.location = location\n",
    "        self.capacity = capacity\n",
    "        self.current_load = 0\n",
    "        self.orders = []\n",
    "        self.base_location = base_location\n",
    "        self.earnings = 0"
   ]
  },
  {
   "cell_type": "code",
   "execution_count": null,
   "id": "92649ce6-d20d-4b6b-9f1f-a9cb4e9721d4",
   "metadata": {},
   "outputs": [],
   "source": [
    "def calculate_distance(origin, destination):\n",
    "    directions_result = gmaps.directions(origin, destination)\n",
    "    if directions_result:\n",
    "        return directions_result[0]['legs'][0]['distance']['value'] / 1000  # distance in km\n",
    "    return 0"
   ]
  },
  {
   "cell_type": "code",
   "execution_count": null,
   "id": "88f920ed-c2d4-425c-bac6-57daae81777e",
   "metadata": {},
   "outputs": [],
   "source": [
    "def calculate_fuel_cost(distance, cost_per_km):\n",
    "    return distance * cost_per_km"
   ]
  },
  {
   "cell_type": "code",
   "execution_count": null,
   "id": "35e3b478-1d15-4f4d-b519-3168f941e518",
   "metadata": {},
   "outputs": [],
   "source": [
    "def calculate_rider_earnings(rider, orders, mg, incentives):\n",
    "    earnings = mg\n",
    "    on_time_deliveries = sum(1 for order in orders if order.delivery_time and order.delivery_time <= order.delivery_deadline)\n",
    "    if on_time_deliveries / len(orders) >= 0.9:\n",
    "        earnings += incentives['otd']\n",
    "    if len(orders) > incentives['order_benchmark']:\n",
    "        earnings += incentives['extra_orders']\n",
    "    return earnings"
   ]
  },
  {
   "cell_type": "code",
   "execution_count": null,
   "id": "8c07df23-8e8e-4c3c-8523-958bbb9048ff",
   "metadata": {},
   "outputs": [],
   "source": [
    "def assign_orders(orders, riders):\n",
    "    for order in orders:\n",
    "        available_riders = [r for r in riders if r.current_load < r.capacity]\n",
    "        if not available_riders:\n",
    "            continue\n",
    "        nearest_rider = min(available_riders, key=lambda r: distance.euclidean(r.location, order.customer_location))\n",
    "        nearest_rider.orders.append(order)\n",
    "        nearest_rider.current_load += 1\n",
    "        order.assigned_rider = nearest_rider"
   ]
  },
  {
   "cell_type": "code",
   "execution_count": null,
   "id": "077c5c7d-4ee1-422e-aeb9-71d801677ce5",
   "metadata": {},
   "outputs": [],
   "source": [
    "def optimize_routes(orders, riders):\n",
    "    for rider in riders:\n",
    "        if rider.orders:\n",
    "            waypoints = [order.customer_location for order in rider.orders]\n",
    "            directions_result = gmaps.directions(\n",
    "                origin=rider.location,\n",
    "                destination=waypoints[-1],\n",
    "                waypoints=waypoints[:-1],\n",
    "                optimize_waypoints=True\n",
    "            )\n",
    "            if directions_result:\n",
    "                rider.route = directions_result\n",
    "                for order in rider.orders:\n",
    "                    order.delivery_time = datetime.now().strftime('%Y-%m-%d %H:%M:%S')\n",
    "            else:\n",
    "                print(\"Error: No directions found\")"
   ]
  },
  {
   "cell_type": "code",
   "execution_count": null,
   "id": "1be9e1a8-ffae-4c8e-aeea-2c22e40ae52e",
   "metadata": {},
   "outputs": [],
   "source": [
    "def track_riders(riders):\n",
    "    for rider in riders:\n",
    "        if rider.orders:\n",
    "            rider.location = rider.orders[0].customer_location\n"
   ]
  },
  {
   "cell_type": "code",
   "execution_count": null,
   "id": "2e049799-ae0f-44ef-adf0-5636bdf6e357",
   "metadata": {},
   "outputs": [],
   "source": [
    "def calculate_metrics(orders, riders, mg, incentives, cost_per_km):\n",
    "    total_orders = len(orders)\n",
    "    on_time_deliveries = sum(1 for order in orders if order.delivery_time and order.delivery_time <= order.delivery_deadline)\n",
    "    otd_rate = on_time_deliveries / total_orders\n",
    "\n",
    "    total_cost = 0\n",
    "    for rider in riders:\n",
    "        first_mile_distance = calculate_distance(rider.base_location, rider.orders[0].customer_location) if rider.orders else 0\n",
    "        last_mile_distance = sum(calculate_distance(order.customer_location, rider.orders[i+1].customer_location) for i, order in enumerate(rider.orders[:-1]))\n",
    "        return_mile_distance = calculate_distance(rider.orders[-1].customer_location, rider.base_location) if rider.orders else 0\n",
    "\n",
    "        total_distance = first_mile_distance + last_mile_distance + return_mile_distance\n",
    "        fuel_cost = calculate_fuel_cost(total_distance, cost_per_km)\n",
    "        rider.earnings = calculate_rider_earnings(rider, rider.orders, mg, incentives)\n",
    "        total_cost += fuel_cost + rider.earnings\n",
    "\n",
    "    return otd_rate, total_cost"
   ]
  },
  {
   "cell_type": "code",
   "execution_count": null,
   "id": "1fcff3ee-706e-4135-b21c-7894f4e850f1",
   "metadata": {},
   "outputs": [],
   "source": [
    "def main():\n",
    "    orders = [Order(1, (28.7041, 77.1025), '2024-08-12 12:00:00'), Order(2, (28.5355, 77.3910), '2024-08-12 13:00:00')]\n",
    "    riders = [Rider(1, (28.7041, 77.1025), 5, (28.7041, 77.1025)), Rider(2, (28.5355, 77.3910), 5, (28.5355, 77.3910))]\n",
    "\n",
    "    mg = 500  \n",
    "    incentives = {\n",
    "        'otd': 100,  \n",
    "        'order_benchmark': 5,  \n",
    "        'extra_orders': 50  \n",
    "    }\n",
    "    cost_per_km = 2.5  \n",
    "\n",
    "    assign_orders(orders, riders)\n",
    "    optimize_routes(orders, riders)\n",
    "    track_riders(riders)\n",
    "    otd_rate, total_cost = calculate_metrics(orders, riders, mg, incentives, cost_per_km)\n",
    "\n",
    "    print(f\"On Time Delivery Rate: {otd_rate * 100:.2f}%\")\n",
    "    print(f\"Total Cost: Rs. {total_cost:.2f}\")\n",
    "\n",
    "if __name__ == \"__main__\":\n",
    "    main()\n"
   ]
  }
 ],
 "metadata": {
  "kernelspec": {
   "display_name": "Python 3 (ipykernel)",
   "language": "python",
   "name": "python3"
  },
  "language_info": {
   "codemirror_mode": {
    "name": "ipython",
    "version": 3
   },
   "file_extension": ".py",
   "mimetype": "text/x-python",
   "name": "python",
   "nbconvert_exporter": "python",
   "pygments_lexer": "ipython3",
   "version": "3.11.7"
  }
 },
 "nbformat": 4,
 "nbformat_minor": 5
}
