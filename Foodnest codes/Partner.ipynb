{
 "cells": [
  {
   "cell_type": "code",
   "execution_count": null,
   "id": "30481daa-cc2b-4363-af2f-bb4288134cfb",
   "metadata": {},
   "outputs": [],
   "source": [
    "import pandas as pd\n",
    "import numpy as np"
   ]
  },
  {
   "cell_type": "code",
   "execution_count": null,
   "id": "2c5bcf2d-3963-4570-903c-09815f4cc151",
   "metadata": {},
   "outputs": [],
   "source": [
    "class Order:\n",
    "    def __init__(self, order_id, order_value, customer_id, restaurant_id):\n",
    "        self.order_id = order_id\n",
    "        self.order_value = order_value\n",
    "        self.customer_id = customer_id\n",
    "        self.restaurant_id = restaurant_id"
   ]
  },
  {
   "cell_type": "code",
   "execution_count": null,
   "id": "8be05f4b-e9c9-4b5b-829f-a259bcbd55bb",
   "metadata": {},
   "outputs": [],
   "source": [
    "class Restaurant:\n",
    "    def __init__(self, restaurant_id, commission_rate):\n",
    "        self.restaurant_id = restaurant_id\n",
    "        self.commission_rate = commission_rate"
   ]
  },
  {
   "cell_type": "code",
   "execution_count": null,
   "id": "3862f529-73a8-4392-b1a8-d9c1698a45b1",
   "metadata": {},
   "outputs": [],
   "source": [
    "def calculate_profit(orders, restaurants, delivery_cost_per_order, operational_costs, gst_rate):\n",
    "    total_revenue = 0\n",
    "    total_cost = 0\n",
    "    \n",
    "    for order in orders:\n",
    "        restaurant = next(r for r in restaurants if r.restaurant_id == order.restaurant_id)\n",
    "        commission = order.order_value * restaurant.commission_rate\n",
    "        gst = order.order_value * gst_rate\n",
    "        delivery_cost = delivery_cost_per_order\n",
    "        \n",
    "        total_revenue += order.order_value - gst\n",
    "        total_cost += delivery_cost + operational_costs - commission\n",
    "    \n",
    "    profit = total_revenue - total_cost\n",
    "    return profit"
   ]
  },
  {
   "cell_type": "code",
   "execution_count": null,
   "id": "7875b112-2444-40fa-ad14-b8c56548579d",
   "metadata": {},
   "outputs": [],
   "source": [
    "def simulate_different_lov_mov(lov_range, mov_range, commission_rates, orders, restaurants, delivery_cost_per_order, operational_costs, gst_rate):\n",
    "    results = []\n",
    "    \n",
    "    for lov in lov_range:\n",
    "        for mov in mov_range:\n",
    "            for commission_rate in commission_rates:\n",
    "                filtered_orders = [order for order in orders if lov <= order.order_value <= mov]\n",
    "                for restaurant in restaurants:\n",
    "                    restaurant.commission_rate = commission_rate\n",
    "                profit = calculate_profit(filtered_orders, restaurants, delivery_cost_per_order, operational_costs, gst_rate)\n",
    "                results.append((lov, mov, commission_rate, profit))\n",
    "    \n",
    "    return results"
   ]
  },
  {
   "cell_type": "code",
   "execution_count": null,
   "id": "9ffd42ac-8586-4488-ab52-8a3350ebd24b",
   "metadata": {},
   "outputs": [],
   "source": [
    "def main():\n",
    "    # Example data\n",
    "    orders = [\n",
    "        Order(1, 300, 1, 1),\n",
    "        Order(2, 700, 2, 2),\n",
    "        Order(3, 1500, 1, 1),\n",
    "        Order(4, 250, 2, 2)\n",
    "    ]\n",
    "    restaurants = [\n",
    "        Restaurant(1, 0.10),\n",
    "        Restaurant(2, 0.15)\n",
    "    ]\n",
    "\n",
    "    delivery_cost_per_order = 50\n",
    "    operational_costs = 100\n",
    "    gst_rate = 0.05\n",
    "\n",
    "    lov_range = range(200, 501, 50)  # Example LOV range from 200 to 500\n",
    "    mov_range = range(1000, 2001, 200)  # Example MOV range from 1000 to 2000\n",
    "    commission_rates = [0.10, 0.15, 0.20]  # Example commission rates\n",
    "\n",
    "    results = simulate_different_lov_mov(lov_range, mov_range, commission_rates, orders, restaurants, delivery_cost_per_order, operational_costs, gst_rate)\n",
    "    \n",
    "    for result in results:\n",
    "        print(f\"LOV: {result[0]}, MOV: {result[1]}, Commission Rate: {result[2]}, Profit: Rs. {result[3]:.2f}\")\n",
    "\n",
    "if __name__ == \"__main__\":\n",
    "    main()\n"
   ]
  }
 ],
 "metadata": {
  "kernelspec": {
   "display_name": "Python 3 (ipykernel)",
   "language": "python",
   "name": "python3"
  },
  "language_info": {
   "codemirror_mode": {
    "name": "ipython",
    "version": 3
   },
   "file_extension": ".py",
   "mimetype": "text/x-python",
   "name": "python",
   "nbconvert_exporter": "python",
   "pygments_lexer": "ipython3",
   "version": "3.11.7"
  }
 },
 "nbformat": 4,
 "nbformat_minor": 5
}
