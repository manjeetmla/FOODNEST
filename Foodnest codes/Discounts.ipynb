{
 "cells": [
  {
   "cell_type": "code",
   "execution_count": null,
   "id": "fa0d8bd9-b6e6-4ea5-b5c7-bd8f799f8b54",
   "metadata": {},
   "outputs": [],
   "source": [
    "import pandas as pd"
   ]
  },
  {
   "cell_type": "code",
   "execution_count": null,
   "id": "e145e40b-146e-4a8f-bc86-608a6201186d",
   "metadata": {},
   "outputs": [],
   "source": [
    "class Customer:\n",
    "    def __init__(self, customer_id, is_new, order_history):\n",
    "        self.customer_id = customer_id\n",
    "        self.is_new = is_new\n",
    "        self.order_history = order_history"
   ]
  },
  {
   "cell_type": "code",
   "execution_count": null,
   "id": "10b5d0fc-5305-48fc-9b57-9bf7cd3c90a9",
   "metadata": {},
   "outputs": [],
   "source": [
    "class Order:\n",
    "    def __init__(self, order_id, customer_id, total_amount):\n",
    "        self.order_id = order_id\n",
    "        self.customer_id = customer_id\n",
    "        self.total_amount = total_amount\n",
    "        self.discount = 0\n",
    "        self.final_amount = total_amount"
   ]
  },
  {
   "cell_type": "code",
   "execution_count": null,
   "id": "6289b5e8-3296-49c3-9a81-268b7cea44fe",
   "metadata": {},
   "outputs": [],
   "source": [
    "def calculate_discount(customer, order):\n",
    "    discount = 0\n",
    "    if customer.is_new:\n",
    "        discount += 0.10 * order.total_amount \n",
    "\n",
    "    if len(customer.order_history) > 5:\n",
    "        discount += 0.05 * order.total_amount \n",
    "\n",
    "    if is_festive_season():\n",
    "        discount += 0.15 * order.total_amount \n",
    "\n",
    "    if order.total_amount > 500:\n",
    "        discount += 50  \n",
    "\n",
    "    if has_referred_new_customer(customer):\n",
    "        discount += 0.10 * order.total_amount  \n",
    "\n",
    "    if order.total_amount > 1000:\n",
    "        discount += 0.10 * order.total_amount  \n",
    "\n",
    "    if is_early_bird_order():\n",
    "        discount += 0.05 * order.total_amount \n",
    "\n",
    "    if has_special_dietary_needs(order):\n",
    "        discount += 0.05 * order.total_amount  \n",
    "\n",
    "    return discount"
   ]
  },
  {
   "cell_type": "code",
   "execution_count": null,
   "id": "d5680083-c0ee-4159-bb92-088c29716bc9",
   "metadata": {},
   "outputs": [],
   "source": [
    "def apply_discount(order, discount):\n",
    "    order.discount = discount\n",
    "    order.final_amount = order.total_amount - discount\n",
    "    return order.final_amount\n"
   ]
  },
  {
   "cell_type": "code",
   "execution_count": null,
   "id": "997b8ae4-0f31-4c00-ab41-4d826b60bbbe",
   "metadata": {},
   "outputs": [],
   "source": [
    "def is_festive_season():\n",
    "   # To check if the festive\n",
    "    return True"
   ]
  },
  {
   "cell_type": "code",
   "execution_count": null,
   "id": "21272cf8-5fcf-4d0a-a89b-48c95fe27814",
   "metadata": {},
   "outputs": [],
   "source": [
    "\n",
    "def has_referred_new_customer(customer):\n",
    "    # To check if the customer is new clients\n",
    "    return True"
   ]
  },
  {
   "cell_type": "code",
   "execution_count": null,
   "id": "88feaded-c860-4151-81d1-3ec25af025f9",
   "metadata": {},
   "outputs": [],
   "source": [
    "def is_early_bird_order():\n",
    "    # To check if the order is placed during early bird hours\n",
    "    return True\n"
   ]
  },
  {
   "cell_type": "code",
   "execution_count": null,
   "id": "713b241b-f495-4d28-a363-72705efcffb5",
   "metadata": {},
   "outputs": [],
   "source": [
    "def has_special_dietary_needs(order):\n",
    "    # To check if the order has special dietary needs\n",
    "    return True"
   ]
  },
  {
   "cell_type": "code",
   "execution_count": null,
   "id": "e77fe116-4a41-4bdb-bd4d-3e28476470d6",
   "metadata": {},
   "outputs": [],
   "source": [
    "def main():\n",
    "    # Example data\n",
    "    customers = [\n",
    "        Customer(1, True, []),\n",
    "        Customer(2, False, [Order(1, 2, 200), Order(2, 2, 300), Order(3, 2, 400), Order(4, 2, 500), Order(5, 2, 600), Order(6, 2, 700)])\n",
    "    ]\n",
    "    orders = [\n",
    "        Order(1, 1, 600),\n",
    "        Order(2, 2, 1200)\n",
    "    ]\n",
    "\n",
    "    for order in orders:\n",
    "        customer = next(c for c in customers if c.customer_id == order.customer_id)\n",
    "        discount = calculate_discount(customer, order)\n",
    "        final_amount = apply_discount(order, discount)\n",
    "        print(f\"Order {order.order_id} - Original Amount: Rs. {order.total_amount:.2f}, Discount: Rs. {discount:.2f}, Final Amount: Rs. {final_amount:.2f}\")\n",
    "\n",
    "if __name__ == \"__main__\":\n",
    "    main()\n"
   ]
  }
 ],
 "metadata": {
  "kernelspec": {
   "display_name": "Python 3 (ipykernel)",
   "language": "python",
   "name": "python3"
  },
  "language_info": {
   "codemirror_mode": {
    "name": "ipython",
    "version": 3
   },
   "file_extension": ".py",
   "mimetype": "text/x-python",
   "name": "python",
   "nbconvert_exporter": "python",
   "pygments_lexer": "ipython3",
   "version": "3.11.7"
  }
 },
 "nbformat": 4,
 "nbformat_minor": 5
}
